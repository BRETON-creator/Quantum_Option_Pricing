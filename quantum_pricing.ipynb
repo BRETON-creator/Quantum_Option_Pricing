{
 "cells": [
  {
   "cell_type": "markdown",
   "metadata": {},
   "source": [
    "# Project IF Ensimag - Quantum computing\n",
    "---\n",
    "\n",
    "This notebook is the report of a project that deals with the pricing of an option using quantum calculus thanks to the `qiskit`library.\n",
    "\n",
    "\n",
    " We first give some explanation about how we usally do to price an option by using the Monte-Carlo method. Then we detail how to build some quantum circuits (encoding of an affine function, comparator, creation of probability distribution) which, when assembled together, form the final circuit that can encode the price of an option. \n",
    "\n",
    "\n",
    "**Author** : plp.breton\n",
    "\n",
    "**Date** : 27 mars 2025\n"
   ]
  },
  {
   "cell_type": "markdown",
   "metadata": {},
   "source": [
    "# List of imports\n",
    "\n",
    "The following list of imports should be sufficient to work on the project."
   ]
  },
  {
   "cell_type": "code",
   "execution_count": 2,
   "metadata": {},
   "outputs": [],
   "source": [
    "import math\n",
    "import matplotlib.pyplot as plt\n",
    "import numpy as np  \n",
    "from qiskit import QuantumCircuit, QuantumRegister, ClassicalRegister, transpile\n",
    "from qiskit.circuit.library.standard_gates import RYGate\n",
    "from qiskit_aer import AerSimulator\n",
    "from qiskit_aer.primitives import Sampler\n",
    "\n",
    "from qiskit.visualization import plot_histogram\n",
    "from qiskit.quantum_info import Statevector\n",
    "from qiskit_algorithms import IterativeAmplitudeEstimation, EstimationProblem\n",
    "from itertools import product\n",
    "from scipy.stats import norm, lognorm\n"
   ]
  },
  {
   "cell_type": "markdown",
   "metadata": {},
   "source": [
    "# Standard pricing of a call option\n",
    "\n",
    "The code below permits to compute the price of a call option using the Black-Scholes closed formula, and then approximating it using a Monte Carlo method."
   ]
  },
  {
   "cell_type": "markdown",
   "metadata": {},
   "source": [
    "## Black-Scholes price of the call option\n",
    "\n",
    "Definition of the function implementing the closed formula for the price of a call option"
   ]
  },
  {
   "cell_type": "code",
   "execution_count": null,
   "metadata": {},
   "outputs": [],
   "source": [
    "def black_scholes_call(S, K, T, r, sigma):\n",
    "    \"\"\"\n",
    "    Calculate the Black-Scholes price for a European call option.\n",
    "    \n",
    "    :param S: Current stock price\n",
    "    :param K: Strike price\n",
    "    :param T: Maturity (in years)\n",
    "    :param r: Risk-free interest rate (annual)\n",
    "    :param sigma: Volatility of the stock (annual)\n",
    "    :return: Call option price\n",
    "    \"\"\"\n",
    "    d1 = (np.log(S / K) + (r + 0.5 * sigma**2) * T) / (sigma * np.sqrt(T))\n",
    "    d2 = d1 - sigma * np.sqrt(T)\n",
    "    call_price = S * norm.cdf(d1) - K * np.exp(-r * T) * norm.cdf(d2)\n",
    "    return call_price"
   ]
  },
  {
   "cell_type": "markdown",
   "metadata": {},
   "source": [
    "### Characteristics to price the call option"
   ]
  },
  {
   "cell_type": "code",
   "execution_count": null,
   "metadata": {},
   "outputs": [],
   "source": [
    "# Financial characteristics that are also required to compute the probability distribution\n",
    "sigma = 0.2 # volatility (annualized)\n",
    "T = 1 # maturity (in years)\n",
    "r = 0.05 # risk-free rate (annualized)\n",
    "S0 = 1.5 # initial stock price\n",
    "K = 1.75 # strike price"
   ]
  },
  {
   "cell_type": "markdown",
   "metadata": {},
   "source": [
    "Evaluation of the price for the given set of parameters"
   ]
  },
  {
   "cell_type": "code",
   "execution_count": null,
   "metadata": {},
   "outputs": [],
   "source": [
    "call_price = black_scholes_call(S0, K, T, r, sigma)\n",
    "print(f\"Call option price: {call_price}\")"
   ]
  },
  {
   "cell_type": "markdown",
   "metadata": {},
   "source": [
    "## Compounded Black-Scholes price of the call option"
   ]
  },
  {
   "cell_type": "markdown",
   "metadata": {},
   "source": [
    "In this project, we are actually interested in the compounded value of the call price. Data is stored in dictionaries."
   ]
  },
  {
   "cell_type": "markdown",
   "metadata": {},
   "source": [
    "Dictionary for the pricing characteristics"
   ]
  },
  {
   "cell_type": "code",
   "execution_count": null,
   "metadata": {},
   "outputs": [],
   "source": [
    "price_dict = {'S0': S0, 'r': r, 'sigma': sigma, 'T': T}"
   ]
  },
  {
   "cell_type": "code",
   "execution_count": null,
   "metadata": {},
   "outputs": [],
   "source": [
    "def compound_black_scholes_call(price_dict, K):\n",
    "    \"\"\"\n",
    "    Calculate the Black-Scholes price for a European call option.\n",
    "    \n",
    "    :param S: Current stock price\n",
    "    :param K: Strike price\n",
    "    :param T: Maturity (in years)\n",
    "    :param r: Risk-free interest rate (annual)\n",
    "    :param sigma: Volatility of the stock (annual)\n",
    "    :return: Call option price\n",
    "    \"\"\"\n",
    "    S0 = price_dict['S0']\n",
    "    T = price_dict['T']\n",
    "    r = price_dict['r']\n",
    "    sigma = price_dict['sigma']\n",
    "    call_price = black_scholes_call(S0, K, T, r, sigma)\n",
    "    compound = np.exp(r * T)\n",
    "    return compound * call_price"
   ]
  },
  {
   "cell_type": "code",
   "execution_count": null,
   "metadata": {},
   "outputs": [],
   "source": [
    "compound_call_price = compound_black_scholes_call(price_dict, K)\n",
    "print(f\"Compounded call option price: {compound_call_price}\")"
   ]
  },
  {
   "cell_type": "markdown",
   "metadata": {},
   "source": [
    "## Monte Carlo evaluation of the compounded price of the call option\n",
    "\n",
    "\n",
    "To simulate asset prices, we use the Black-Scholes process, which represents the asset price at each date t. In particular, at date T, we have the following relation: $S(T) = S(0)\\exp{\\left[ \\left(r - \\frac{\\sigma²}{2} \\right)T + r\\epsilon\\sqrt{T} \\right]}$, where $\\epsilon$ follow the law $\\mathcal{N}(0,1)$ (we are using the command `random.standard_normal` from **numpy**).\n",
    "\n",
    "The method consist of simulating many prices with the formula above and take the average as the resulting price."
   ]
  },
  {
   "cell_type": "code",
   "execution_count": null,
   "metadata": {},
   "outputs": [],
   "source": [
    "def monte_carlo_black_scholes(price_dict, K, num_simulations):\n",
    "    \"\"\"\n",
    "    Monte Carlo simulation for Black-Scholes option pricing.\n",
    "    \n",
    "    :param price_dict: Dictionary containing the pricing characteristics\n",
    "    :param K: Strike price\n",
    "    :param num_simulations: Number of Monte Carlo simulations\n",
    "    :return: Option price\n",
    "    \"\"\"\n",
    "    # Retrieve pricing characteristics\n",
    "    S = price_dict['S0']\n",
    "    T = price_dict['T']\n",
    "    r = price_dict['r']\n",
    "    sigma = price_dict['sigma']\n",
    "    np.random.seed(1)\n",
    "    sum = 0\n",
    "    for i in range(1, num_simulations):\n",
    "        eps = np.random.standard_normal(1)\n",
    "        S_T = S*np.exp((r-(sigma**2)/2)*T + sigma*eps*np.sqrt(T))\n",
    "        p = max(S_T-K, 0)\n",
    "        sum += p\n",
    "        \n",
    "        compound_option_price = sum/num_simulations\n",
    "    \n",
    "    return compound_option_price"
   ]
  },
  {
   "cell_type": "code",
   "execution_count": null,
   "metadata": {},
   "outputs": [],
   "source": [
    "monte_carlo_black_scholes(price_dict, K, 50000)\n",
    "\n",
    "fig, ax = plt.subplots(1,1, figsize=(12, 6))\n",
    "X = [i for i in range(5000, 100000, 5000)]\n",
    "y = [monte_carlo_black_scholes(price_dict, K, x) for x in X ]\n",
    "y_prime = compound_black_scholes_call(price_dict, K)\n",
    "z = [y_prime - i for i in y]\n",
    "\n",
    "w = [-0.4*i**(-1/2) for i in X]\n",
    "\n",
    "ax.plot(X, z)\n",
    "ax.plot(X, w)\n",
    "\n",
    "ax.set_xlabel('Number of simulations')\n",
    "ax.set_ylabel('Option price error')\n",
    "ax.set_title('Convergence of Monte Carlo simulation to Black-Scholes price')\n",
    "plt.show()"
   ]
  },
  {
   "cell_type": "markdown",
   "metadata": {},
   "source": [
    "\n",
    "\n",
    "We can see how the error of the Monte-Carlo method is decreasing by the order $O(M^{-1/2})$ . Thanks to the Quantum Amplitude Estimation algorithm (QAE) we could theorically estimate the undiscounted payoff expectation with an error of order $O(M^{-2/3})$ with $M=2^m$ where $m$ is the number of qubits used for QAE. "
   ]
  },
  {
   "cell_type": "markdown",
   "metadata": {},
   "source": [
    "# Storing a linear function in a quantum state\n",
    "\n",
    "## Presentation\n",
    "The goal of this part is to construct a circuit that permits to encode an affine function $f: x\\mapsto a + bx$ on $n$ qubits, under the constraint that $a$ and $b$ are such that $f(x) \\in [0,1]$ for all $x\\in \\{0, \\ldots, 2^n-1\\}$.\n",
    "\n",
    "The encoding is based on the approximation $\\sin^2\\left(y + \\frac{\\pi}{4}\\right) = y + \\frac{1}{2} + O\\left(y^3\\right)$, where $y$ is replaced by $d\\cdot\\left(f(x) + \\frac{1}{2}\\right)$."
   ]
  },
  {
   "cell_type": "markdown",
   "metadata": {},
   "source": [
    "## Encoding the affine function\n",
    "\n",
    "Creation of a method `encode_affine_function`$(n,a,b)$ that encodes the function $f$ defined above into a circuit using rotation gates."
   ]
  },
  {
   "cell_type": "code",
   "execution_count": null,
   "metadata": {},
   "outputs": [],
   "source": [
    "def encode_affine_function(n, a, b):\n",
    "    \"\"\"\n",
    "    Encode an affine function f(x) = a + b*x into a quantum circuit with result on last qubit.\n",
    "    \n",
    "    Args:\n",
    "        n (int): Number of qubits used to encode the input x\n",
    "        a (float): Slope of the affine function\n",
    "        b (float): Intercept of the affine function\n",
    "    \n",
    "    Returns:\n",
    "        QuantumCircuit: Circuit implementing the affine function with result on last qubit\n",
    "    \"\"\"\n",
    "    circuit = QuantumCircuit(n+1)\n",
    "    \n",
    "    # Apply constant term to the output qubit (last qubit)\n",
    "    circuit.ry(2*a, n)\n",
    "    \n",
    "    # Apply controlled rotations from input qubits to output qubit\n",
    "    for i in range(n):\n",
    "        theta = 2*b*(2**i)\n",
    "        circuit.cry(theta, i, n)  # Control: input qubit i, Target: output qubit n\n",
    "    \n",
    "    return circuit"
   ]
  },
  {
   "cell_type": "markdown",
   "metadata": {},
   "source": [
    "Let's see an example of the circuit this function returns:"
   ]
  },
  {
   "cell_type": "code",
   "execution_count": null,
   "metadata": {},
   "outputs": [],
   "source": [
    "circuit = encode_affine_function(5, 1, np.pi/2)\n",
    "circuit.draw('mpl')"
   ]
  },
  {
   "cell_type": "markdown",
   "metadata": {},
   "source": [
    "Note: We could do the same with all the rotations on the first qubit $q0$ but we have decided to do it on the last qubit as it will make it easier for the final implementation."
   ]
  },
  {
   "cell_type": "markdown",
   "metadata": {},
   "source": [
    "## Testing the circuit\n",
    "\n",
    "Definition of a method `convert_affine`$(a,b,d)$ that outputs values `a_out` and `b_out` for the transformed affine function."
   ]
  },
  {
   "cell_type": "code",
   "execution_count": null,
   "metadata": {},
   "outputs": [],
   "source": [
    "def convert_affine(a,b,d):\n",
    "    a_out = d*(a-0.5)+np.pi/4\n",
    "    b_out = d*b\n",
    "    return a_out, b_out"
   ]
  },
  {
   "cell_type": "markdown",
   "metadata": {},
   "source": [
    "The `get_one_prob` method below permits to compute the probability of reading value '1' on qubit $0$ upon a measurement. "
   ]
  },
  {
   "cell_type": "code",
   "execution_count": null,
   "metadata": {},
   "outputs": [],
   "source": [
    "def get_one_prob(qc, numshots):\n",
    "    backend = AerSimulator()  \n",
    "    job = backend.run(qc, shots=numshots)\n",
    "    result = job.result()\n",
    "    counts = result.get_counts(qc)\n",
    "    print(counts)\n",
    "    \n",
    "    count_ones = counts.get('1', 0)\n",
    "    prob = count_ones/numshots\n",
    "    print(prob)\n",
    "    return prob\n"
   ]
  },
  {
   "cell_type": "markdown",
   "metadata": {},
   "source": [
    "Creation of a method `add_measurement`(`qc`) method that copies circuit `qc`, adds a classical register with a single bit to the new copy and adds a measurement of qubit $0$ with the result stored in the classical bit. The resulting circuit will be used to guarantee that the circuit correctly encodes the affine function."
   ]
  },
  {
   "cell_type": "code",
   "execution_count": null,
   "metadata": {},
   "outputs": [],
   "source": [
    "def add_measurement_last_bit(qc):\n",
    "    \n",
    "    new_reg = ClassicalRegister(1, 'c_reg')\n",
    "    qc.add_register(new_reg)\n",
    "    last_qubit = qc.num_qubits - 1\n",
    "    qc.measure(last_qubit, 0)\n",
    "    \n",
    "    return qc\n",
    "\n",
    "def add_measurement_first_bit(qc):\n",
    "    \n",
    "    new_reg = ClassicalRegister(1, 'c_reg')\n",
    "    qc.add_register(new_reg)\n",
    "    qc.measure(0, 0)\n",
    "    \n",
    "    return qc"
   ]
  },
  {
   "cell_type": "markdown",
   "metadata": {},
   "source": [
    "### Validation"
   ]
  },
  {
   "cell_type": "code",
   "execution_count": null,
   "metadata": {},
   "outputs": [],
   "source": [
    "# Number of qubits in the circuit\n",
    "n_test = 3\n",
    "\n",
    "# Arbitrary value for b\n",
    "b_test = 1.0/(2**n_test)\n",
    "\n",
    "# Arbitrary value for a, with the constraint that 0 <= f(x) <= 1 for all x\n",
    "a_test = 1.0/(2**(n_test+1))\n",
    "\n",
    "# Arbitrary value for d\n",
    "d_test = 0.1"
   ]
  },
  {
   "cell_type": "code",
   "execution_count": null,
   "metadata": {},
   "outputs": [],
   "source": [
    "affine_circ = encode_affine_function(n_test, a_test, b_test)"
   ]
  },
  {
   "cell_type": "code",
   "execution_count": null,
   "metadata": {},
   "outputs": [],
   "source": [
    "affine_circ.draw(output='mpl')"
   ]
  },
  {
   "cell_type": "code",
   "execution_count": null,
   "metadata": {},
   "outputs": [],
   "source": [
    "measure_affine = add_measurement_last_bit(affine_circ)"
   ]
  },
  {
   "cell_type": "code",
   "execution_count": null,
   "metadata": {},
   "outputs": [],
   "source": [
    "measure_affine.draw(output='mpl')"
   ]
  },
  {
   "cell_type": "markdown",
   "metadata": {},
   "source": [
    "Creation of a method `initializer`$(qc,i)$ that takes as an input a quantum circuit $qc$ consisting of $n$ qubits and an integer $0\\leq i \\leq 2^{n} -1$, and creates a new quantum circuit in which the initial state is $|i\\rangle$.\n",
    "\n",
    "We can do that thanks to the method `QuantumCircuit.inialize()` with the integer $i$ as parameter."
   ]
  },
  {
   "cell_type": "code",
   "execution_count": null,
   "metadata": {},
   "outputs": [],
   "source": [
    "def initializer(qc, i):\n",
    "    \"\"\"\n",
    "    Initialize the quantum circuit qc in the basis state |i>.\n",
    "    :param qc: Quantum circuit to initialize\n",
    "    :param i: Index of the basis state to initialize\n",
    "    :return: Quantum circuit initialized in the basis state |i>\n",
    "    \"\"\"\n",
    "    n = qc.num_qubits\n",
    "    if i < 0 or i >= 2**n:\n",
    "        raise ValueError(f\"i must be between 0 and {2**n - 1}\")\n",
    "    \n",
    "    \n",
    "    #Note: the Statevector for n qubits is of size 2**n as there are 2**n basis states.\n",
    "    basis_state = Statevector.from_int(i, 2**(qc.num_qubits-1))\n",
    "    \n",
    "    new_qc = QuantumCircuit(qc.num_qubits)\n",
    "    new_qc.initialize(basis_state, new_qc.qubits[:-1])\n",
    "    \n",
    "    new_qc = new_qc.compose(qc)\n",
    "    \n",
    "    return new_qc\n",
    "\n",
    "a_out, b_out = convert_affine(a_test, b_test, d_test)\n",
    "encoded_qc = encode_affine_function(n_test, a_out, b_out)\n",
    "initialized_qc = initializer(encoded_qc, 3)\n",
    "measured_qc = add_measurement_last_bit(initialized_qc)\n",
    "measured_qc.draw(output='mpl')\n"
   ]
  },
  {
   "cell_type": "markdown",
   "metadata": {},
   "source": [
    "We provide below a method `compare_values`$(n,a,b,d,i)$ that compares the expected value \n",
    "$$d\\cdot\\left(f(i)-\\frac{1}{2}\\right) + \\frac{1}{2} = d\\cdot\\left(a+i\\cdot b - \\frac{1}{2}\\right) + \\frac{1}{2}$$\n",
    "with the probability of measuring value $1$ in the constructed circuit. The method prints the expected value, the probability of measuring the value $1$ and the relative error between both.\n",
    "\n",
    "This method is in charge of:\n",
    "- Invoking `convert_affine` to get the appropriate parameters for the encoded affine function\n",
    "- Creating the initial circuit (`encode_affine_function`)\n",
    "- Invoking the `initializer` to set the desired initial state\n",
    "- Adding a classical bit to measure the first qubit (`add_measurement` method) and using the `get_one_prob` method to compute the probability of measuring the value $1$"
   ]
  },
  {
   "cell_type": "code",
   "execution_count": null,
   "metadata": {},
   "outputs": [],
   "source": [
    "def compare_values(n, a, b, d, i):\n",
    "    a_out, b_out = convert_affine(a, b, d)\n",
    "    encoded_qc = encode_affine_function(n, a_out, b_out)\n",
    "    initialized_qc = initializer(encoded_qc,i)\n",
    "    measured_qc = add_measurement_last_bit(initialized_qc)\n",
    "    output_prob = get_one_prob(measured_qc, 10000)\n",
    "    expected_value = d*(a+b*i -0.5) + 0.5\n",
    "    relative_error =(expected_value-output_prob)/expected_value\n",
    "    measured_qc.draw(output='mpl')\n",
    "    print(f'Expected value: {expected_value}, measured output: {output_prob}, relative error: {relative_error:.2%}')"
   ]
  },
  {
   "cell_type": "code",
   "execution_count": null,
   "metadata": {},
   "outputs": [],
   "source": [
    "def compare_all_values(n, a, b, d):\n",
    "    for i in range(2**n):\n",
    "        compare_values(n, a, b, d, i)"
   ]
  },
  {
   "cell_type": "code",
   "execution_count": null,
   "metadata": {},
   "outputs": [],
   "source": [
    "compare_all_values(n_test, a_test, b_test, d_test)"
   ]
  },
  {
   "cell_type": "markdown",
   "metadata": {},
   "source": [
    "As we can see, the circuit is able to store the result of the affine function in the probability distribution. The relative error between the measurement and the expected value is rather low."
   ]
  },
  {
   "cell_type": "markdown",
   "metadata": {},
   "source": [
    "# A quantum circuit for integer comparison\n",
    "\n",
    "The goal of this part is to construct a circuit of size $n$, parameterized by an integer $0\\leq L \\leq 2^n-1$, that permits to detect whether a given state $|i\\rangle$ is such that $i < L$ or $i\\geq L$."
   ]
  },
  {
   "cell_type": "markdown",
   "metadata": {},
   "source": [
    "## Creation of the 'or' gate\n",
    "\n",
    "Definition of a method `or_gate`() that constructs a quantum circuit representing an *or* gate using the method described in the exercise sheet. The resulting circuit can be used as a standard gate thanks to the `to_gate()` method. It will be necessary to invoke the `transpile` method before measurement outcomes can be computed."
   ]
  },
  {
   "cell_type": "code",
   "execution_count": null,
   "metadata": {},
   "outputs": [],
   "source": [
    "def or_gate():\n",
    "    # We create an \"or gate\" with the Toffoli gate:\n",
    "    qc = QuantumCircuit(3)\n",
    "    qc.x(0)\n",
    "    qc.x(1)\n",
    "    qc.x(2)\n",
    "    qc.ccx(0,1,2)\n",
    "    qc.x(0)\n",
    "    qc.x(1)\n",
    "    return qc.to_gate(label=\"OR\")"
   ]
  },
  {
   "cell_type": "code",
   "execution_count": null,
   "metadata": {},
   "outputs": [],
   "source": [
    "qc = QuantumCircuit(4)\n",
    "qc.append(or_gate(), [0,1,3])\n",
    "qc.draw(output='mpl')"
   ]
  },
  {
   "cell_type": "markdown",
   "metadata": {},
   "source": [
    "We can verify that the *or* gate has the appropriate behavior by computing the probabilities of measuring a $1$ on qubit $2$ for different initial states.\n",
    "\n",
    "\n",
    "**Useful methods**: \n",
    "- The `initialize` method defined above.\n",
    "- The `to_gate()` instruction can be used to convert a circuit into a gate.\n",
    "- The `transpile()` instruction allows the AerSimulator to convert the *or* gate back to known gates."
   ]
  },
  {
   "cell_type": "code",
   "execution_count": null,
   "metadata": {},
   "outputs": [],
   "source": [
    "qc = QuantumCircuit(3)\n",
    "qc.initialize('001', qc.qubits)\n",
    "qc.compose(or_gate(), qubits=[2,1,0], inplace=True)\n",
    "backend = AerSimulator()\n",
    "transpiled_qc = transpile(qc,backend)\n",
    "measure = add_measurement_first_bit(transpiled_qc)\n",
    "prob_measure = get_one_prob(measure, 10000)\n",
    "measure.draw(output='mpl')\n",
    "print(f'Probability of measuring 1: {prob_measure}')\n",
    "\n"
   ]
  },
  {
   "cell_type": "markdown",
   "metadata": {},
   "source": [
    "## Construction of the comparator circuit\n",
    "\n",
    "Definition of a `make_comparator`$(n,K)$ method that creates a circuit $q$ of size $2n$ such that, when state $|0^n\\rangle\\otimes |i\\rangle $ is fed as an input, we obtain a state $|x_{2n-1}\\cdots x_0\\rangle$ as an output with $|x_0\\rangle = |0\\rangle$ exactly when $i < K$. \n",
    "\n",
    "\n",
    "We have seen in the exercise sheet how to constuct an operator that can do exactly the purpose we want. It can be built by dtermining the $\\textit{two's complement}$ of $K$, which is $K^{[n]}= \\sum_{i=0}^{n-1} ki2^i$ and by constructing operators (either $\\textit{OR[]}$ or $\\textit{ccNOT[]}$ ) based on the value of $ki$."
   ]
  },
  {
   "cell_type": "code",
   "execution_count": null,
   "metadata": {},
   "outputs": [],
   "source": [
    "def two_complement(K_bits):\n",
    "\n",
    "    \"\"\"\n",
    "    Compute the two's complement of a binary number K.\n",
    "    :param K_bits: List of bits representing the binary number K\n",
    "    :return: List of bits representing the two's complement of K\n",
    "    \"\"\"\n",
    "\n",
    "    complement_K_bits = [1-b for b in K_bits]\n",
    "\n",
    "    carry = 1\n",
    "    for i in range(len(complement_K_bits)-1, -1, -1):\n",
    "        if complement_K_bits[i] == 0 and carry == 1:\n",
    "            complement_K_bits[i] = 1\n",
    "            carry = 0\n",
    "            break\n",
    "        elif complement_K_bits[i] == 1 and carry == 1:\n",
    "            complement_K_bits[i] = 0\n",
    "    return complement_K_bits\n",
    "\n",
    "\n",
    "def make_comparator(n, L):\n",
    "    \"\"\"\n",
    "    Create the quantum circuit for a comparator that compares an integer i with an integer K.\n",
    "    For an input |0^n⟩|i⟩, the circuit produces the state |x_{2n-1}...x_0⟩ with x_0 = 0 if i < K (else 1).\n",
    "    \n",
    "    Args:\n",
    "        n: Number of qubits used to encode the integer i\n",
    "        K: The integer to compare against\n",
    "    \"\"\"\n",
    "    input_reg = QuantumRegister(n, 'x')   \n",
    "    zero_reg = QuantumRegister(n, '0')    \n",
    "    \n",
    "    qc = QuantumCircuit(zero_reg, input_reg)\n",
    "\n",
    "    # We determine the ki values by computing the two's complement of K\n",
    "    K_bin = format(L, f'0{n}b')\n",
    "    K_bits = [0 if b=='0' else 1 for b in K_bin]\n",
    "\n",
    "\n",
    "    complement_K_bits = two_complement(K_bits)    \n",
    "\n",
    "\n",
    "    if complement_K_bits[0] == 0: #We apply CNOT[n-1,n] \n",
    "        qc.cx(n-1,n)\n",
    "    \n",
    "\n",
    "    for j in range(1,n):\n",
    "        if complement_K_bits[j] == 1: # if kj == 1\n",
    "            qc.append(or_gate(), [n+j, n-j, n-j-1])\n",
    "        else:\n",
    "            qc.ccx(n+j, n-j, n-j-1)\n",
    "    \n",
    "    return qc"
   ]
  },
  {
   "cell_type": "markdown",
   "metadata": {},
   "source": [
    "An example when $n=3$ and $K=5$"
   ]
  },
  {
   "cell_type": "code",
   "execution_count": null,
   "metadata": {},
   "outputs": [],
   "source": [
    "cmp_qc = make_comparator(3, 5)"
   ]
  },
  {
   "cell_type": "code",
   "execution_count": null,
   "metadata": {},
   "outputs": [],
   "source": [
    "cmp_qc.draw(output='mpl')"
   ]
  },
  {
   "cell_type": "markdown",
   "metadata": {},
   "source": [
    "Definition of a `check_comparison`$(n,L, nb)$ method that invokes the `make_comparator` method, iterates over $0\\leq i\\leq 2^n-1$ to initialize the circuit with state $|i\\rangle \\otimes |0^n\\rangle$ and verifies that the measurement of the qubit at index $0$ returns the appropriate value for each value of $i$. Parameter $nb$ represents the number of shots used by the sampler to compute measurement outcome statistics."
   ]
  },
  {
   "cell_type": "code",
   "execution_count": null,
   "metadata": {},
   "outputs": [],
   "source": [
    "def check_comparison(n, L, numshots):\n",
    "    comp_qc = make_comparator(n, L)\n",
    "    simulator = AerSimulator(method='statevector')\n",
    "    \n",
    "    for i in range(2**n):\n",
    "\n",
    "        input_reg = QuantumRegister(n, 'x')   \n",
    "        zero_reg = QuantumRegister(n, '0')  \n",
    "        qci = QuantumCircuit(zero_reg, input_reg)\n",
    "        init = [0 for _ in range(2**n)]\n",
    "        init[i] = 1\n",
    "        qci.initialize(init, input_reg)\n",
    "        res_qc = qci.compose(comp_qc)\n",
    "        meas_qc = add_measurement_first_bit(res_qc)\n",
    "        \n",
    "        qc = transpile(meas_qc, simulator)\n",
    "        \n",
    "        job = simulator.run(qc, shots=numshots)\n",
    "        result = job.result()\n",
    "        counts = result.get_counts(qc)\n",
    "        \n",
    "        print(f'Test if {i} >= {L}, measured output: {counts}')\n",
    "    return qc , comp_qc"
   ]
  },
  {
   "cell_type": "code",
   "execution_count": null,
   "metadata": {},
   "outputs": [],
   "source": [
    "qc , comp_qc = check_comparison(4, 10, 1024)\n",
    "# comp_qc.draw(output='mpl')\n",
    "qc.draw(output='mpl')"
   ]
  },
  {
   "cell_type": "markdown",
   "metadata": {},
   "source": [
    "# Storing a probability distribution in a quantum state\n",
    "\n",
    "The goal of this part is to design a circuit that permits to store a probability distribution in a quantum state.\n",
    "\n",
    "## Case where $n=2$\n",
    "\n",
    "We begin with the simple case where $n=2$. The cell below constructs a circuit permitting to store the probability distribution in a quantum state (with a single qubit). "
   ]
  },
  {
   "cell_type": "code",
   "execution_count": null,
   "metadata": {},
   "outputs": [],
   "source": [
    "def make_basic_qc(p):\n",
    "    qreg = QuantumRegister(1)\n",
    "    qc =  QuantumCircuit(qreg)\n",
    "    theta = 2*math.acos(math.sqrt(p))\n",
    "    qc.ry(theta, 0)\n",
    "    return qc "
   ]
  },
  {
   "cell_type": "code",
   "execution_count": null,
   "metadata": {},
   "outputs": [],
   "source": [
    "make_basic_qc(0.15).draw(output='mpl')"
   ]
  },
  {
   "cell_type": "code",
   "execution_count": null,
   "metadata": {},
   "outputs": [],
   "source": [
    "def get_state_probabilities(qc):\n",
    "  n = qc.num_qubits\n",
    "  statevector = Statevector(qc)\n",
    "  probabilities = {}\n",
    "  for i in range(2**n):\n",
    "    state = bin(i)[2:].zfill(n)\n",
    "    probabilities[state] = abs(statevector[i])**2  \n",
    "  return probabilities"
   ]
  },
  {
   "cell_type": "code",
   "execution_count": null,
   "metadata": {},
   "outputs": [],
   "source": [
    "get_state_probabilities(make_basic_qc(0.15))"
   ]
  },
  {
   "cell_type": "markdown",
   "metadata": {},
   "source": [
    "The probability of getting the outcome $0$ is close to $p$, likewise for $1$ and $1-p$."
   ]
  },
  {
   "cell_type": "markdown",
   "metadata": {},
   "source": [
    "## Circuit for an arbitrary value of $n$."
   ]
  },
  {
   "cell_type": "markdown",
   "metadata": {},
   "source": [
    "### Generation of the final prices grid"
   ]
  },
  {
   "cell_type": "markdown",
   "metadata": {},
   "source": [
    "Definition of a method `make_final_price_grid`$(n, \\mathrm{price\\_dict}, m)$ that generates a regular grid with size $2^n$ of final prices ranging between $\\max\\left(0, \\overline{S} - m\\cdot \\sigma\\right)$ and $\\overline{S} + m\\cdot \\sigma$. This method is based on the `linspace` method from **numpy**."
   ]
  },
  {
   "cell_type": "code",
   "execution_count": null,
   "metadata": {},
   "outputs": [],
   "source": [
    "def make_final_price_grid(n, price_dict,m):\n",
    "\n",
    "    S_mean = price_dict['S0']*np.exp(price_dict['r']*price_dict['T'])\n",
    "    sigma = price_dict['sigma']\n",
    "    max = np.maximum(0, S_mean - m*sigma)  #corresponds to sm\n",
    "    return np.linspace(max, S_mean + m*sigma, 2**n)\n"
   ]
  },
  {
   "cell_type": "markdown",
   "metadata": {},
   "source": [
    "Definition of a method `align`$(n, K, \\mathrm{price\\_dict}, m)$ that returns the value $L$ such that $s_L$ is the projection of $K$ on the final price grid. "
   ]
  },
  {
   "cell_type": "code",
   "execution_count": null,
   "metadata": {},
   "outputs": [],
   "source": [
    "def align(n,K,price_dict,m):\n",
    "    grid = make_final_price_grid(n, price_dict, m)\n",
    "    L = 0\n",
    "    for i in range(2**n):\n",
    "        if grid[i] >= K:\n",
    "            L = i\n",
    "            break\n",
    "    return (L, grid[L])\n",
    "    \n"
   ]
  },
  {
   "cell_type": "markdown",
   "metadata": {},
   "source": [
    "Test of the discretization error by comparing the outputs of `compound_black_scholes_call` on an arbitrary strike and on its projection on the final price grid."
   ]
  },
  {
   "cell_type": "code",
   "execution_count": null,
   "metadata": {},
   "outputs": [],
   "source": [
    "init_cpb = compound_black_scholes_call(price_dict, K)\n",
    "disc_cpb = compound_black_scholes_call(price_dict, align(11,K, price_dict, 3)[1])\n",
    "\n",
    "print(align(5,K, price_dict, 3))\n",
    "\n"
   ]
  },
  {
   "cell_type": "code",
   "execution_count": null,
   "metadata": {},
   "outputs": [],
   "source": [
    "print(f'init: {init_cpb}, disc: {disc_cpb}, error: {(init_cpb-disc_cpb)/init_cpb:.2%}')"
   ]
  },
  {
   "cell_type": "markdown",
   "metadata": {},
   "source": [
    "### Generation of the probability values\n",
    "\n",
    "Definition of a method `make_probability_distribution` that returns a *last prices* grid and the corresponding value of each $p_i$ for $0 \\leq i < 2^n$. The arguments of this method are:\n",
    "- $n$: the number of qubits under consideration\n",
    "- $\\mathrm{price\\_dict}$: the dictionary with the mathematical characteristics of the underlying\n",
    "- $m$: the number of standard deviations to consider for the minimum and maximum bounds of the grid\n",
    "\n",
    "***Useful methods:*** \n",
    "$S_T$ is of the form $S_0e^{(r-\\tfrac{\\sigma^2}{2})T}\\cdot Z$, where $Z \\sim \\mathrm{lognorm}(\\sigma\\sqrt{T})$. The lognormal distribution is available thanks to the `lognorm` method from `scipy.stats`. The `scale` parameter is to be set to $1$.\n",
    "\n",
    "The probability values can be computed using the `cdf` method available on the lognormal distribution."
   ]
  },
  {
   "cell_type": "code",
   "execution_count": null,
   "metadata": {},
   "outputs": [],
   "source": [
    "def make_probability_distribution(n, pr_dict, num_stddev):\n",
    "    \"\"\"\n",
    "    Generate the probability distribution for the final stock prices.\n",
    "    \n",
    "    :param n: Number of qubits - correspond to 2**n final prices\n",
    "    :param num_stddev: Number of standard deviations to consider\n",
    "    :param pr_dict: Dictionary with the princing characteristics\n",
    "    :return: Probability distribution\n",
    "    \"\"\"\n",
    "    # Generate the log-normal distribution\n",
    "    S0 = pr_dict['S0']\n",
    "    r = pr_dict['r']\n",
    "    T = pr_dict['T']\n",
    "    sigma = pr_dict['sigma']\n",
    "    S_mean = S0*np.exp(r*T)\n",
    "    \n",
    "    lognorm_dist = lognorm(sigma*np.sqrt(T), scale=1)\n",
    "    \n",
    "    final_prices = make_final_price_grid(n, pr_dict, num_stddev)\n",
    "\n",
    "\n",
    "    sm = final_prices[0]  #max(0, S_mean - num_stddev*sigma)\n",
    "    sM = S_mean + num_stddev*sigma\n",
    "\n",
    "    constant= S0*np.exp(r*T - sigma**2*T/2) \n",
    "    \n",
    "    \n",
    "    # Additional point for the construction of the probability grid\n",
    "\n",
    "    S_2n = sM + (sM - sm) / (2**n - 1)\n",
    "    \n",
    "    # Extension of the final prices grid\n",
    "\n",
    "    final_prices = np.append(final_prices, S_2n)\n",
    "    \n",
    "    # Computation of the quantiles\n",
    "\n",
    "\n",
    "    first_quantile = lognorm_dist.cdf(sm/constant)\n",
    "    last_quantile = lognorm_dist.cdf(S_2n/constant)\n",
    "\n",
    "    normalization_factor = last_quantile - first_quantile\n",
    "\n",
    "    prob_distribs = []\n",
    "    for i in range(len(final_prices)-1):\n",
    "        x1 = final_prices[i]/constant\n",
    "        x2 = final_prices[i+1]/constant\n",
    "        quantile1 = lognorm_dist.cdf(x1)\n",
    "        quantile2 = lognorm_dist.cdf(x2)\n",
    "        prob_value = quantile2 - quantile1\n",
    "\n",
    "        prob_value = prob_value / normalization_factor\n",
    "        prob_distribs.append(prob_value)\n",
    "    \n",
    "\n",
    "    prob_distribs.append(prob_distribs[-1]) # It allows to have the same dimension for the final prices and the probability distribution\n",
    "    return final_prices, prob_distribs\n"
   ]
  },
  {
   "cell_type": "markdown",
   "metadata": {},
   "source": [
    "## Validation of the probability distribution, comparison of the Black-Scholes approximation"
   ]
  },
  {
   "cell_type": "code",
   "execution_count": null,
   "metadata": {},
   "outputs": [],
   "source": [
    "# Arbitrary value for n, will afterward be the size of the quantum circuit\n",
    "n_prob = 13\n",
    "n_stddev_prob = 4"
   ]
  },
  {
   "cell_type": "markdown",
   "metadata": {},
   "source": [
    "Verification that the generated distribution sums to $1$."
   ]
  },
  {
   "cell_type": "code",
   "execution_count": null,
   "metadata": {},
   "outputs": [],
   "source": [
    "final_prices, prob_distribs = make_probability_distribution(n_prob, price_dict, n_stddev_prob)\n",
    "np.sum(prob_distribs)\n"
   ]
  },
  {
   "cell_type": "markdown",
   "metadata": {},
   "source": [
    "Plot the generated distribution against the final price grid."
   ]
  },
  {
   "cell_type": "code",
   "execution_count": null,
   "metadata": {},
   "outputs": [],
   "source": [
    "plt.plot(final_prices, prob_distribs)\n",
    "plt.xlabel('i')\n",
    "plt.ylabel('$p_i$')\n",
    "plt.show()"
   ]
  },
  {
   "cell_type": "markdown",
   "metadata": {},
   "source": [
    "Compare the compounded Black-Scholes price of an option with the approximation of the expectation \n",
    "$$\\mathbb{E}\\left[(S_T - s_L)_+\\right] \\approx \\sum_{i=0}^{2^n-1}p_i\\cdot(s_i - s_L)_+.$$"
   ]
  },
  {
   "cell_type": "code",
   "execution_count": null,
   "metadata": {},
   "outputs": [],
   "source": [
    "def expectation_cmp(n, L, price_dict, n_stddev):\n",
    "    last_prices, prob_distribs = make_probability_distribution(n, price_dict, n_stddev)\n",
    "    sL = last_prices[L]\n",
    "    sum = 0\n",
    "    for i in range(0, 2**n):        \n",
    "        sum += (last_prices[i] - sL)*prob_distribs[i]*(i>=L)\n",
    "    bs = compound_black_scholes_call(price_dict, sL)\n",
    "    return {'bs': bs, 'sum': sum, 'strike': sL}"
   ]
  },
  {
   "cell_type": "code",
   "execution_count": null,
   "metadata": {},
   "outputs": [],
   "source": [
    "def get_all_expect_comp(n, price_dict, num_stddev, num_points):\n",
    "    res = []\n",
    "    for L in range(0, 2**n,int(2**n/num_points)):\n",
    "        ex_cmp = expectation_cmp(n, L, price_dict, num_stddev)\n",
    "        print(f'L: {L} (strike {ex_cmp[\"strike\"]})')\n",
    "        res.append(ex_cmp)\n",
    "    return res"
   ]
  },
  {
   "cell_type": "code",
   "execution_count": null,
   "metadata": {},
   "outputs": [],
   "source": [
    "res = get_all_expect_comp(n_prob, price_dict,n_stddev_prob, 20)"
   ]
  },
  {
   "cell_type": "code",
   "execution_count": null,
   "metadata": {},
   "outputs": [],
   "source": [
    "resbs = [x['bs'] for x in res]\n",
    "ressum = [x['sum'] for x in res]\n",
    "strikes = [x['strike'] for x in res]\n",
    "xcoord = price_dict['S0']\n",
    "plt.plot(strikes, resbs, label='Black-Scholes')\n",
    "plt.plot(strikes, ressum, label='Approx')\n",
    "plt.axvline(x=xcoord, color='r', linestyle='--', label=f'S0 = {xcoord}')\n",
    "plt.legend()\n",
    "plt.show()\n"
   ]
  },
  {
   "cell_type": "code",
   "execution_count": null,
   "metadata": {},
   "outputs": [],
   "source": [
    "abs_errors = [(x['sum'] - x['bs']) for x in res]"
   ]
  },
  {
   "cell_type": "code",
   "execution_count": null,
   "metadata": {},
   "outputs": [],
   "source": [
    "plt.plot(strikes, abs_errors)\n",
    "xcoord = price_dict['S0']\n",
    "plt.axvline(x=xcoord, color='r', linestyle='--', label=f'x = {xcoord}')\n",
    "plt.legend()\n",
    "plt.show()\n"
   ]
  },
  {
   "cell_type": "markdown",
   "metadata": {},
   "source": [
    "The error is relatively small and indicate a systematic underestimation by the approximation method but it is not constant.\n",
    "\n",
    "Indeed the error depends on the strike prices. The approximation is better for high strike prices whereas when it is close to the initial stock price $S0$ and for strike prices lesser than $S0$,the approximation perfoms less well."
   ]
  },
  {
   "cell_type": "markdown",
   "metadata": {},
   "source": [
    "## Recursive distribution computations\n",
    "\n",
    "Computation of the values $q_w$ and $\\theta_w$. The values of $q_w$ (resp. $\\theta_w$) where $w$ is of length $m$ are stored in a dictionnary for which each key is a string of length $m$. The dictionnaries with the values of $q$ (resp. $\\theta$) for $1 \\leq m \\leq n$ are stored in a dictionnary `DictQ` (resp. `DictTheta`)."
   ]
  },
  {
   "cell_type": "markdown",
   "metadata": {},
   "source": [
    "Definition of a function `generate_binary_strings`$(n)$ that takes a parameter $n$ and outputs a list of all binary strings of length $n$.\n",
    "\n",
    "Useful method: `product` from the `itertools` package"
   ]
  },
  {
   "cell_type": "code",
   "execution_count": null,
   "metadata": {},
   "outputs": [],
   "source": [
    "DictQ = dict()\n",
    "i=10\n",
    "n=4\n",
    "# print(f'{i:0{n}b}')\n",
    "def generate_binary_strings(n):\n",
    "    list_string = []\n",
    "    for i in range(2**n):\n",
    "        s = f'{i:0{n}b}'\n",
    "        s = \"\".join(reversed(s))\n",
    "        list_string.append(s)\n",
    "    return list_string\n",
    "generate_binary_strings(4)\n"
   ]
  },
  {
   "cell_type": "markdown",
   "metadata": {},
   "source": [
    "Note: As we can see the order of the list of bits is not the classic order, but it fits with the circuit creating the probability distribution (see further)."
   ]
  },
  {
   "cell_type": "markdown",
   "metadata": {},
   "source": [
    "Definition of a method `make_dict_at_n` that creates the dictionary containing the values $q_w$ where $w$ is of length $n$. This method has two parameters:\n",
    "- the value of $n$\n",
    "- the probability distribution under consideration"
   ]
  },
  {
   "cell_type": "code",
   "execution_count": null,
   "metadata": {},
   "outputs": [],
   "source": [
    "def make_dict_at_n(n, prob_distribs):\n",
    "    list_string = generate_binary_strings(n)\n",
    "    dict = {}\n",
    "    for i  in range(len(list_string)):\n",
    "        dict[list_string[i]] = prob_distribs[i]\n",
    "    return dict"
   ]
  },
  {
   "cell_type": "code",
   "execution_count": null,
   "metadata": {},
   "outputs": [],
   "source": [
    "n_circ = 3\n",
    "circ_distrib = {\n",
    "    0: 0.300,  \n",
    "    1: 0.250, \n",
    "    2: 0.200,  \n",
    "    3: 0.050,  \n",
    "    4: 0.050,  \n",
    "    5: 0.050,\n",
    "    6: 0.050,\n",
    "    7: 0.050\n",
    "}\n",
    "\n",
    "dict_pn = make_dict_at_n(n_circ, circ_distrib)\n",
    "print(dict_pn)"
   ]
  },
  {
   "cell_type": "code",
   "execution_count": null,
   "metadata": {},
   "outputs": [],
   "source": [
    "dict_pn"
   ]
  },
  {
   "cell_type": "markdown",
   "metadata": {},
   "source": [
    "Definition of a method `make_all_dictQ` that iterates from $n-1$ to $1$ to generate all the required probability distributions. Note that the set of keys in the generated dictionary is $\\{1, \\ldots, n\\}$. This method has two parameters:\n",
    "- the value of $n$\n",
    "- the dictionary containing the probability distribution at level $n$ (generated by `make_dict_at_n`)"
   ]
  },
  {
   "cell_type": "code",
   "execution_count": null,
   "metadata": {},
   "outputs": [],
   "source": [
    "def make_all_dictQ(n, prob_distribs_dict):\n",
    "    dictQ = {}\n",
    "    dictQ[n]= list(prob_distribs_dict.values())\n",
    "    for m in range(n-1, 0, -1):\n",
    "        new_prob_distribs = []\n",
    "        old_prob_distribs = dictQ[m+1]\n",
    "        for j in range(0,2**(m+1),2):\n",
    "            new_prob_distribs.append(old_prob_distribs[j] + old_prob_distribs[j+1])\n",
    "        dictQ[m] = new_prob_distribs\n",
    "    return dictQ"
   ]
  },
  {
   "cell_type": "code",
   "execution_count": null,
   "metadata": {},
   "outputs": [],
   "source": [
    "dict_all_q = make_all_dictQ(n_circ, dict_pn)\n",
    "print(dict_all_q)"
   ]
  },
  {
   "cell_type": "markdown",
   "metadata": {},
   "source": [
    "Definition of a method `make_all_dictTheta` that iterates from $0$ to $n-1$ to generate all the required angles. Note that the set of keys in the generated dictionary is $\\{0, \\ldots, n-1\\}$. This method has a single parameter: the dictionary generated by `make_all_dictQ`.\n",
    "\n",
    "For the sake of convenience, the element at key $0$ in the generated dictionary will be the angle $\\theta^{[0]}_\\varepsilon$ instead of a dictionary containing this angle (with the empty string as a key)."
   ]
  },
  {
   "cell_type": "code",
   "execution_count": null,
   "metadata": {},
   "outputs": [],
   "source": [
    "def make_all_dictTheta(dictQ):\n",
    "    dictTheta = {}\n",
    "    dictTheta[0] = [2*np.acos(np.sqrt(dictQ[1][0]))]\n",
    "    for i in range(1,len(dictQ)):\n",
    "        angle_distribs = []\n",
    "        for j in range(2**i):\n",
    "            if dictQ[i][j] == 0:\n",
    "                theta = 0\n",
    "            else:\n",
    "                theta = 2*np.acos(np.sqrt(dictQ[i+1][2*j]/dictQ[i][j]))\n",
    "            angle_distribs.append(theta)\n",
    "        dictTheta[i] = angle_distribs\n",
    "    return dictTheta"
   ]
  },
  {
   "cell_type": "code",
   "execution_count": null,
   "metadata": {},
   "outputs": [],
   "source": [
    "dict_all_theta = make_all_dictTheta(dict_all_q)\n",
    "print(dict_all_theta)"
   ]
  },
  {
   "cell_type": "markdown",
   "metadata": {},
   "source": [
    "Definition of a method `make_qc_for_dict` that creates the general quantum circuit for the storage of a quantum distribution. This method has a unique parameter: the dictionary of rotation angles (generated by `make_all_dictTheta`).\n",
    "\n",
    "Some useful concepts and methods from Qiskit:\n",
    "- `RYGate` for $y$-rotation gates that are potentially controlled\n",
    "- `control`: the method to create the controlled version of a quantum gate. This method takes as parameters the number of control qubits, and possibly the state of the control qubits that will trigger the gate (`ctrl_state`)."
   ]
  },
  {
   "cell_type": "code",
   "execution_count": null,
   "metadata": {},
   "outputs": [],
   "source": [
    "def make_qc_for_dict(dict_all_theta):\n",
    "    n = len(dict_all_theta)\n",
    "    qr = QuantumRegister(n)\n",
    "    qc = QuantumCircuit(qr)\n",
    "\n",
    "    # First rotation on the first qubit:\n",
    "    theta = dict_all_theta[0][0]\n",
    "    qc.ry(theta, 0)\n",
    "\n",
    "    for i in range(1,n):\n",
    "        theta_list = list(dict_all_theta[i])\n",
    "        string_bits = generate_binary_strings(i)\n",
    "\n",
    "        for j in range(len(theta_list)):\n",
    "            theta = theta_list[j]\n",
    "            # state = \"\".join(reversed(string_bits[j]))\n",
    "            state = string_bits[j]\n",
    "            controlled_ry = RYGate(theta).control(i, ctrl_state=state)\n",
    "\n",
    "            qc.append(controlled_ry, list(range(i+1)))\n",
    "           \n",
    "\n",
    "    return qc    "
   ]
  },
  {
   "cell_type": "code",
   "execution_count": null,
   "metadata": {},
   "outputs": [],
   "source": [
    "prob_distrib_qc = make_qc_for_dict(dict_all_theta)"
   ]
  },
  {
   "cell_type": "code",
   "execution_count": null,
   "metadata": {},
   "outputs": [],
   "source": [
    "def get_one_prob_per_state(qc, numshots,state):\n",
    "    #This function is very similar to the get_one_prob() function, \n",
    "    # but it allows to specify the state for which we want to get the probability.\n",
    "    \n",
    "    backend = AerSimulator()\n",
    "    transpile_qc = transpile(qc, backend) \n",
    "\n",
    "    job = backend.run(transpile_qc, shots=numshots)\n",
    "    result = job.result()\n",
    "    counts = result.get_counts(qc)\n",
    "    \n",
    "    count = counts.get(state, 0)\n",
    "    prob = count/numshots\n",
    "    return prob"
   ]
  },
  {
   "cell_type": "code",
   "execution_count": null,
   "metadata": {},
   "outputs": [],
   "source": [
    "prob_distrib_qc.draw(output='mpl')\n"
   ]
  },
  {
   "cell_type": "code",
   "execution_count": null,
   "metadata": {},
   "outputs": [],
   "source": [
    "\n",
    "# get_one_prob_per_state(prob_distrib_qc, 100000, '000')"
   ]
  },
  {
   "cell_type": "markdown",
   "metadata": {},
   "source": [
    "## Validation"
   ]
  },
  {
   "cell_type": "code",
   "execution_count": null,
   "metadata": {},
   "outputs": [],
   "source": [
    "circ_prob_distrib = get_state_probabilities(prob_distrib_qc)\n",
    "print(circ_prob_distrib)"
   ]
  },
  {
   "cell_type": "code",
   "execution_count": null,
   "metadata": {},
   "outputs": [],
   "source": [
    "legend=[\"Target\", \"Simulation\"]\n",
    "plot_histogram([dict_pn, circ_prob_distrib], legend=legend, title=\"Distribution comparison\", bar_labels=False)"
   ]
  },
  {
   "cell_type": "markdown",
   "metadata": {},
   "source": [
    "As we can see on this chart, our circuit thrives to encode probabilities with pretty good results."
   ]
  },
  {
   "cell_type": "markdown",
   "metadata": {},
   "source": [
    "Global method that constructs a circuit that stores the probability distribution in a quantum state:"
   ]
  },
  {
   "cell_type": "code",
   "execution_count": null,
   "metadata": {},
   "outputs": [],
   "source": [
    "def make_distribution_circuit(n, pricing_dict, num_stddev):\n",
    "    _ ,prob_distrib = make_probability_distribution(n, pricing_dict, num_stddev)\n",
    "    dict_pn = make_dict_at_n(n, prob_distrib)\n",
    "    dict_all_q = make_all_dictQ(n, dict_pn)\n",
    "    dict_all_theta = make_all_dictTheta(dict_all_q)\n",
    "    res = make_qc_for_dict(dict_all_theta)\n",
    "    return res"
   ]
  },
  {
   "cell_type": "markdown",
   "metadata": {},
   "source": [
    "# Full integration"
   ]
  },
  {
   "cell_type": "code",
   "execution_count": null,
   "metadata": {},
   "outputs": [],
   "source": [
    "circ_dict = {'n': 3, 'd': 0.01, 'num_stddev': 3, 'm': 3}\n",
    "K = 2\n",
    "\n",
    "circ = make_distribution_circuit(circ_dict['n'], price_dict, circ_dict['num_stddev'])\n",
    "circ.draw(output='mpl')"
   ]
  },
  {
   "cell_type": "markdown",
   "metadata": {},
   "source": [
    "## Creation of the affine functions $f_0$ and $f_1$\n",
    "\n",
    "Computation of the values $a_i$ and $b_i$ such that $f_i = a_i + b_i\\cdot i$."
   ]
  },
  {
   "cell_type": "code",
   "execution_count": null,
   "metadata": {},
   "outputs": [],
   "source": [
    "def get_coefficients(circ_dict, price_dict,K):\n",
    "    n = circ_dict['n']\n",
    "    d = circ_dict['d']\n",
    "    num_stddev = circ_dict['num_stddev']\n",
    "    res = {'a0': np.pi/4 - d/2, 'a1': 0, 'b1': 0, 'L':0, 'sM':0, 'sL':0}\n",
    "    sigma = price_dict['sigma']\n",
    "\n",
    "\n",
    "    L, sL = align(n, K, price_dict, num_stddev)\n",
    "    sm = make_final_price_grid(n, price_dict, num_stddev)[0]\n",
    "    S_mean = price_dict['S0']*np.exp(price_dict['r']*price_dict['T'])\n",
    "    sM = S_mean + num_stddev*sigma    \n",
    "    eps = 0.0000001\n",
    "    res['b1'] = d*(sM-sm)/((sM-sL)*(2**n-1) + eps)\n",
    "    res['a1'] = -L*d*(sM-sm)/((sM-sL)*(2**n-1) +eps)\n",
    "    res['L'] = L\n",
    "    res['sM'] = sM\n",
    "    res['sL'] = sL\n",
    "\n",
    "\n",
    "    return res\n",
    "\n"
   ]
  },
  {
   "cell_type": "markdown",
   "metadata": {},
   "source": [
    "Comparison of the expectation to estimate with the expectation of its sine approximation."
   ]
  },
  {
   "cell_type": "code",
   "execution_count": null,
   "metadata": {},
   "outputs": [],
   "source": [
    "def compare_expect(circ_dict, price_dict, K):\n",
    "    num_stddev = circ_dict['num_stddev']\n",
    "    n = circ_dict['n']\n",
    "    d = circ_dict['d']\n",
    "    _ ,prob_distrib = make_probability_distribution(n, price_dict, num_stddev)\n",
    "\n",
    "    mean_f = 0\n",
    "    mean_sin = 0\n",
    "\n",
    "    coefs = get_coefficients(circ_dict, price_dict, K)\n",
    "    # print(coefs['sM']) #debug\n",
    "    # print(coefs['sL'])\n",
    "    for i in range(2**n):\n",
    "        f0 = coefs['a0']\n",
    "        f1 = coefs['a1'] + coefs['b1']*i\n",
    "        r = 1 if i >= coefs['L'] else 0\n",
    "        fc = ((f0 + r*f1) - np.pi/4)/d\n",
    "        fc = fc + 1/2\n",
    "        mean_f += prob_distrib[i]*fc\n",
    "        mean_sin += prob_distrib[i]*(np.sin(f0 + r*f1))**2     \n",
    "\n",
    "    mean_f = d*mean_f + (1-d)/2   \n",
    "\n",
    "    \n",
    "    return mean_f, mean_sin"
   ]
  },
  {
   "cell_type": "code",
   "execution_count": null,
   "metadata": {},
   "outputs": [],
   "source": [
    "expect, sin_expect = compare_expect(circ_dict, price_dict, K)"
   ]
  },
  {
   "cell_type": "code",
   "execution_count": null,
   "metadata": {},
   "outputs": [],
   "source": [
    "expect, sin_expect"
   ]
  },
  {
   "cell_type": "markdown",
   "metadata": {},
   "source": [
    "Definition of methods to construct the circuits for $f_0$ and $f_1$ using the `encode_affine_function` method."
   ]
  },
  {
   "cell_type": "code",
   "execution_count": null,
   "metadata": {},
   "outputs": [],
   "source": [
    "\n",
    "\n",
    "def make_affine_function_f0_circ(price_dict, circ_dict, K, i):\n",
    "    a0 , a1, b1, L , sM, sL= get_coefficients(circ_dict, price_dict, K).values()\n",
    "    encoded_qc = encode_affine_function(n, 0, a0)\n",
    "    return encoded_qc\n",
    "\n",
    "\n",
    "def make_affine_function_f1_circ(price_dict, circ_dict, K, i):\n",
    "    a0 , a1, b1, L ,sM, sL = get_coefficients(circ_dict, price_dict, K).values()\n",
    "    encoded_qc = encode_affine_function(n, a1, b1)\n",
    "    return encoded_qc\n",
    "\n",
    "make_affine_function_f0_circ(price_dict, circ_dict, K, 3).draw(output='mpl')"
   ]
  },
  {
   "cell_type": "markdown",
   "metadata": {},
   "source": [
    "## Comparison circuit\n",
    "\n",
    "Construction of the comparison circuit for a given strike price."
   ]
  },
  {
   "cell_type": "code",
   "execution_count": null,
   "metadata": {},
   "outputs": [],
   "source": [
    "def make_comparison_circuit(circ_dict, price_dict, K):\n",
    "    n = circ_dict['n']\n",
    "    L = get_coefficients(circ_dict, price_dict, K)['L']\n",
    "    comp_qc = make_comparator(n, L)\n",
    "    return comp_qc"
   ]
  },
  {
   "cell_type": "code",
   "execution_count": null,
   "metadata": {},
   "outputs": [],
   "source": [
    "cmp_qc = make_comparison_circuit(circ_dict, price_dict, K)"
   ]
  },
  {
   "cell_type": "code",
   "execution_count": null,
   "metadata": {},
   "outputs": [],
   "source": [
    "cmp_qc.draw('mpl')"
   ]
  },
  {
   "cell_type": "markdown",
   "metadata": {},
   "source": [
    "## Integration\n",
    "\n",
    "Global integration to construct the global circuit encoding the pricing problem in a quantum state."
   ]
  },
  {
   "cell_type": "code",
   "execution_count": null,
   "metadata": {},
   "outputs": [],
   "source": [
    "sigma_bis = 0.2 # volatility (annualized)\n",
    "T_bis = 1 # maturity (in years)\n",
    "r_bis = 0.05 # risk-free rate (annualized)\n",
    "S0_bis = 2 # initial stock price\n",
    "K_bis =  2 # strike price\n",
    "\n",
    "price = {'S0': S0_bis, 'r': r_bis, 'sigma': sigma_bis, 'T': T_bis}\n",
    "circ = {'n': 3, 'd': 0.01, 'num_stddev': 3, 'm': 3}\n",
    "\n",
    "expect, sin_expect = compare_expect(circ, price, K_bis)\n",
    "\n"
   ]
  },
  {
   "cell_type": "code",
   "execution_count": null,
   "metadata": {},
   "outputs": [],
   "source": [
    "#debug\n",
    "\n",
    "# prob_distrib = make_distribution_circuit(3, price, 3)\n",
    "# res_qc = make_distribution_circuit(3, price, 3)\n",
    "# circ_prob_distrib = get_state_probabilities(prob_distrib_qc)\n",
    "# print(circ_prob_distrib)\n",
    "# legend=[\"Target\", \"Simulation\"]\n",
    "# plot_histogram([dict_pn, circ_prob_distrib], legend=legend, title=\"Distribution comparison\", bar_labels=False)"
   ]
  },
  {
   "cell_type": "code",
   "execution_count": null,
   "metadata": {},
   "outputs": [],
   "source": [
    "\n",
    "def integration(circ_dict, pricing_dict, K):\n",
    "\n",
    "    #List of the coefficients\n",
    "    n = circ_dict['n']\n",
    "    d = circ_dict['d']\n",
    "    num_stddev = circ_dict['num_stddev']\n",
    "    m = circ_dict['m']\n",
    "    L = get_coefficients(circ_dict, pricing_dict, K)['L']\n",
    "    a0 = np.pi/4 - d/2\n",
    "    b0 = 0\n",
    "    a1 = get_coefficients(circ_dict, pricing_dict, K)['a1']\n",
    "    b1 = get_coefficients(circ_dict, pricing_dict, K)['b1']\n",
    "\n",
    "    reg_0 = QuantumRegister(1, 'reg_0')\n",
    "    reg_1 = QuantumRegister(n-1, 'reg_1')\n",
    "    reg_2 = QuantumRegister(n, 'reg_2')\n",
    "    reg_3 = QuantumRegister(1, 'reg_3')\n",
    "    reg_4 = QuantumRegister(m, 'reg_4')\n",
    "\n",
    "    qc = QuantumCircuit(reg_0, reg_1, reg_2, reg_3, reg_4)\n",
    "    dist_circuit = make_distribution_circuit(n, pricing_dict, num_stddev)\n",
    "    qc.compose(dist_circuit, qubits=reg_2, inplace=True)\n",
    "    comp_circuit = make_comparator(n, L)\n",
    "    qc.compose(comp_circuit, qubits=list(reg_0) + list(reg_1) + list(reg_2), inplace=True)\n",
    "\n",
    "    f0_circuit = encode_affine_function(n, a0, b0)\n",
    "    qc.compose(f0_circuit, qubits= list(reg_2) + list(reg_3), inplace=True)\n",
    "\n",
    "    \n",
    "    f1_circuit = encode_affine_function(n, a1, b1)\n",
    "    controlled_f1 = f1_circuit.to_gate(label='C_f1').control(1)\n",
    "    qc.append(controlled_f1, [reg_0[0]] + list(reg_2) + list(reg_3))\n",
    "\n",
    "    return qc\n"
   ]
  },
  {
   "cell_type": "code",
   "execution_count": null,
   "metadata": {},
   "outputs": [],
   "source": [
    "qc_pricer = integration(circ, price, K_bis)"
   ]
  },
  {
   "cell_type": "code",
   "execution_count": null,
   "metadata": {},
   "outputs": [],
   "source": [
    "qc_pricer.draw('mpl')"
   ]
  },
  {
   "cell_type": "code",
   "execution_count": null,
   "metadata": {},
   "outputs": [],
   "source": [
    "from qiskit_algorithms import AmplitudeEstimation, FasterAmplitudeEstimation\n",
    "\n",
    "\n",
    "def qae_eval(qc_pricer,m):\n",
    "    # qc = qc_pricer.copy()\n",
    "    # aer_simulator = AerSimulator()\n",
    "    # qc_transpiled = transpile(qc, aer_simulator)\n",
    "    \n",
    "    sampler = Sampler()\n",
    "    \n",
    "    obj_qubits = qc_pricer.find_bit(qc_pricer.qregs[3][0])\n",
    "    objective_qubit = [obj_qubits.index]\n",
    "\n",
    "\n",
    "    problem = EstimationProblem(\n",
    "        state_preparation=qc_pricer, \n",
    "        objective_qubits=objective_qubit\n",
    "    )\n",
    "    \n",
    "    iae = IterativeAmplitudeEstimation(\n",
    "        epsilon_target = 0.01,  # Target accuracy\n",
    "        alpha=0.03,  # Confidence level\n",
    "        sampler=sampler\n",
    "    )\n",
    "\n",
    " \n",
    "    fae = FasterAmplitudeEstimation(\n",
    "    delta=0.01,  # target accuracy\n",
    "    maxiter=3,  # determines the maximal power of the Grover operator\n",
    "    sampler=sampler,\n",
    "    )\n",
    "    fae_result = fae.estimate(problem)\n",
    "    \n",
    "    \n",
    "    result = iae.estimate(problem)\n",
    "    # result = fae.estimate(problem)\n",
    "    return result.estimation\n",
    "    "
   ]
  },
  {
   "cell_type": "code",
   "execution_count": null,
   "metadata": {},
   "outputs": [],
   "source": [
    "res = qae_eval(qc_pricer,4)"
   ]
  },
  {
   "cell_type": "code",
   "execution_count": null,
   "metadata": {},
   "outputs": [],
   "source": [
    "print(f'sin_expect: {sin_expect}, res: {res}')\n",
    "print(f'expect: {np.sqrt(expect)}, res: {np.sqrt(res)}')\n"
   ]
  },
  {
   "cell_type": "code",
   "execution_count": null,
   "metadata": {},
   "outputs": [],
   "source": [
    "error = []\n",
    "K_values = np.linspace(1.6, 2.5, 20) #outside of this range, K is not on the price gri5\n",
    "for K in K_values:\n",
    "    res = qae_eval(integration(circ, price, K), 3)\n",
    "    expect, sin_expect = compare_expect(circ, price, K)\n",
    "    error.append((res - expect))\n",
    "\n",
    "plt.figure(figsize=(12, 6))\n",
    "plt.plot(K_values, error)\n",
    "plt.xlabel('Strike price')\n",
    "plt.ylabel('error')\n",
    "plt.title('Error in the estimation of the expectation')\n"
   ]
  },
  {
   "cell_type": "markdown",
   "metadata": {},
   "source": [
    "Aside from the boundary conditions (>= 2.5), we can see at first glance that the difference between the theoretical value and the measured value at the circuit output is quite small. However, after rescaling, this difference remains significant.\n",
    "\n",
    "\n",
    "We plot below the value obtained for the option price thanks to the quantum circuit and QAE."
   ]
  },
  {
   "cell_type": "code",
   "execution_count": null,
   "metadata": {},
   "outputs": [],
   "source": [
    "K_values = np.linspace(1.6, 2.5, 20)\n",
    "quantum_prices = []\n",
    "bs_prices = []\n",
    "qae = []\n",
    "price = {'S0': 2, 'r': 0.05, 'sigma': 0.2, 'T': 1}\n",
    "circ['n']= 3\n",
    "d = circ['d']\n",
    "\n",
    "\n",
    "for K in K_values:\n",
    "    \n",
    "    qc_pricer = integration(circ, price, K)\n",
    "    res = qae_eval(qc_pricer, 4)\n",
    "    qae.append(np.abs((res - (1-d)/2)/d))\n",
    "\n",
    "    \n",
    "    expect, sin_expect = compare_expect(circ, price, K)\n",
    "    d = circ['d']\n",
    "    quantum_prices.append(np.abs((sin_expect - (1-d)/2)/d)  )\n",
    "    \n",
    "    # Calculate Black-Scholes price\n",
    "    bs_price = compound_black_scholes_call(price, K)\n",
    "    bs_prices.append(bs_price)\n",
    "\n",
    "# Plot results\n",
    "plt.figure(figsize=(10, 6))\n",
    "plt.plot(K_values, quantum_prices, 'b-', label='Expectation Price')\n",
    "plt.plot(K_values, bs_prices, 'r--', label='Black-Scholes')\n",
    "plt.plot(K_values, qae, 'g-', label='QAE')\n",
    "plt.xlabel('Strike Price (K)')\n",
    "plt.ylabel('Option Price')\n",
    "plt.title('Quantum vs Black-Scholes Option Pricing')\n",
    "plt.legend()\n",
    "plt.grid(True)\n",
    "plt.show()"
   ]
  },
  {
   "cell_type": "markdown",
   "metadata": {},
   "source": [
    "As we can see, we can rescale the result of the expectation of the payoff and the QAE price so that they can fit with the classical value we want to compute. \n",
    "\n",
    "\n",
    "We could smooth the curve of the expectation of the payoff by increasing the value of n, but it would be too heavy to execute. The observation we would make is the same as before that the results are better with a higher strike price.\n",
    "\n",
    "\n",
    "As for the QAE price, we can see that the circuit sometimes tends to underestimate the expectation, and other times to overestimate it.\n",
    "\n",
    "\n",
    "# Can we modify or improve these results?\n",
    "\n",
    "- Modifying the parameter n will infuence largely the results as this parameter chooses the number of qubits used to represent the price.\n",
    "Moreover, affining the discretization would take too much time to run the quantum computing.\n",
    "\n",
    "\n",
    "- One solution would be to increase the precision of the QAE algorithm. But, for the `IterativeAmplitudeEstimation` function for example, changing the accuracy parameter (`epsilon_target`) doesn't affect the errors between the theorical expectation and our circuit ouptuts. \n",
    "\n",
    "- For now we can't explain these systematic errors. Even if we have validated each block of our circuit, it may be possible that there is a design error in the final assembly. The errors can also come from the errors of the encoding of the affine function. Even if they were rather low, they may have a big influence in the final results. \n",
    "\n",
    "\n",
    " One idea to solve these problems would be to measure the output after each block and compare it with the theoretical measurement to expect and locate which part may undermine the expected results.\n"
   ]
  }
 ],
 "metadata": {
  "kernelspec": {
   "display_name": "base",
   "language": "python",
   "name": "python3"
  },
  "language_info": {
   "codemirror_mode": {
    "name": "ipython",
    "version": 3
   },
   "file_extension": ".py",
   "mimetype": "text/x-python",
   "name": "python",
   "nbconvert_exporter": "python",
   "pygments_lexer": "ipython3",
   "version": "3.11.11"
  }
 },
 "nbformat": 4,
 "nbformat_minor": 4
}
